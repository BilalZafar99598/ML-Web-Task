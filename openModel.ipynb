{
 "cells": [
  {
   "cell_type": "code",
   "execution_count": 1,
   "metadata": {},
   "outputs": [],
   "source": [
    "from __future__ import print_function"
   ]
  },
  {
   "cell_type": "code",
   "execution_count": 8,
   "metadata": {},
   "outputs": [
    {
     "name": "stdout",
     "output_type": "stream",
     "text": [
      "Collecting seaborn\n",
      "  Downloading seaborn-0.11.2-py3-none-any.whl (292 kB)\n",
      "Requirement already satisfied: matplotlib>=2.2 in c:\\users\\bilal zafar\\appdata\\local\\programs\\python\\python39\\lib\\site-packages (from seaborn) (3.5.0)\n",
      "Requirement already satisfied: numpy>=1.15 in c:\\users\\bilal zafar\\appdata\\local\\programs\\python\\python39\\lib\\site-packages (from seaborn) (1.21.2)\n",
      "Requirement already satisfied: scipy>=1.0 in c:\\users\\bilal zafar\\appdata\\local\\programs\\python\\python39\\lib\\site-packages (from seaborn) (1.7.2)\n",
      "Requirement already satisfied: pandas>=0.23 in c:\\users\\bilal zafar\\appdata\\local\\programs\\python\\python39\\lib\\site-packages (from seaborn) (1.3.5)\n",
      "Requirement already satisfied: cycler>=0.10 in c:\\users\\bilal zafar\\appdata\\local\\programs\\python\\python39\\lib\\site-packages (from matplotlib>=2.2->seaborn) (0.10.0)\n",
      "Requirement already satisfied: pillow>=6.2.0 in c:\\users\\bilal zafar\\appdata\\local\\programs\\python\\python39\\lib\\site-packages (from matplotlib>=2.2->seaborn) (8.4.0)\n",
      "Requirement already satisfied: python-dateutil>=2.7 in c:\\users\\bilal zafar\\appdata\\local\\programs\\python\\python39\\lib\\site-packages (from matplotlib>=2.2->seaborn) (2.8.1)\n",
      "Requirement already satisfied: fonttools>=4.22.0 in c:\\users\\bilal zafar\\appdata\\local\\programs\\python\\python39\\lib\\site-packages (from matplotlib>=2.2->seaborn) (4.28.1)\n",
      "Requirement already satisfied: kiwisolver>=1.0.1 in c:\\users\\bilal zafar\\appdata\\local\\programs\\python\\python39\\lib\\site-packages (from matplotlib>=2.2->seaborn) (1.3.2)\n",
      "Requirement already satisfied: pyparsing>=2.2.1 in c:\\users\\bilal zafar\\appdata\\local\\programs\\python\\python39\\lib\\site-packages (from matplotlib>=2.2->seaborn) (2.4.7)\n",
      "Requirement already satisfied: packaging>=20.0 in c:\\users\\bilal zafar\\appdata\\local\\programs\\python\\python39\\lib\\site-packages (from matplotlib>=2.2->seaborn) (20.4)\n",
      "Requirement already satisfied: setuptools-scm>=4 in c:\\users\\bilal zafar\\appdata\\local\\programs\\python\\python39\\lib\\site-packages (from matplotlib>=2.2->seaborn) (6.3.2)\n",
      "Requirement already satisfied: six in c:\\users\\bilal zafar\\appdata\\local\\programs\\python\\python39\\lib\\site-packages (from cycler>=0.10->matplotlib>=2.2->seaborn) (1.15.0)\n",
      "Collecting pytz>=2017.3\n",
      "  Downloading pytz-2022.1-py2.py3-none-any.whl (503 kB)\n",
      "Requirement already satisfied: setuptools in c:\\users\\bilal zafar\\appdata\\local\\programs\\python\\python39\\lib\\site-packages (from setuptools-scm>=4->matplotlib>=2.2->seaborn) (56.0.0)\n",
      "Requirement already satisfied: tomli>=1.0.0 in c:\\users\\bilal zafar\\appdata\\local\\programs\\python\\python39\\lib\\site-packages (from setuptools-scm>=4->matplotlib>=2.2->seaborn) (1.2.2)\n",
      "Installing collected packages: pytz, seaborn\n",
      "  Attempting uninstall: pytz\n",
      "    Found existing installation: pytz 2015.7\n",
      "    Uninstalling pytz-2015.7:\n",
      "      Successfully uninstalled pytz-2015.7\n",
      "Successfully installed pytz-2022.1 seaborn-0.11.2\n"
     ]
    },
    {
     "name": "stderr",
     "output_type": "stream",
     "text": [
      "WARNING: Ignoring invalid distribution -illow (c:\\users\\bilal zafar\\appdata\\local\\programs\\python\\python39\\lib\\site-packages)\n",
      "WARNING: Ignoring invalid distribution -illow (c:\\users\\bilal zafar\\appdata\\local\\programs\\python\\python39\\lib\\site-packages)\n",
      "WARNING: Ignoring invalid distribution -illow (c:\\users\\bilal zafar\\appdata\\local\\programs\\python\\python39\\lib\\site-packages)\n",
      "    WARNING: Ignoring invalid distribution -illow (c:\\users\\bilal zafar\\appdata\\local\\programs\\python\\python39\\lib\\site-packages)\n",
      "WARNING: Ignoring invalid distribution -illow (c:\\users\\bilal zafar\\appdata\\local\\programs\\python\\python39\\lib\\site-packages)\n",
      "WARNING: Ignoring invalid distribution -illow (c:\\users\\bilal zafar\\appdata\\local\\programs\\python\\python39\\lib\\site-packages)\n",
      "ERROR: pip's dependency resolver does not currently take into account all the packages that are installed. This behaviour is the source of the following dependency conflicts.\n",
      "parselmouth 1.1.1 requires pytz==2015.7, but you have pytz 2022.1 which is incompatible.\n",
      "WARNING: Ignoring invalid distribution -illow (c:\\users\\bilal zafar\\appdata\\local\\programs\\python\\python39\\lib\\site-packages)\n",
      "WARNING: Ignoring invalid distribution -illow (c:\\users\\bilal zafar\\appdata\\local\\programs\\python\\python39\\lib\\site-packages)\n",
      "WARNING: Ignoring invalid distribution -illow (c:\\users\\bilal zafar\\appdata\\local\\programs\\python\\python39\\lib\\site-packages)\n",
      "WARNING: You are using pip version 21.1.3; however, version 22.1.1 is available.\n",
      "You should consider upgrading via the 'C:\\Users\\Bilal Zafar\\AppData\\Local\\Programs\\Python\\Python39\\python.exe -m pip install --upgrade pip' command.\n"
     ]
    }
   ],
   "source": [
    "!python -m pip install seaborn"
   ]
  },
  {
   "cell_type": "code",
   "execution_count": 1,
   "metadata": {},
   "outputs": [],
   "source": [
    "import pandas as pd\n",
    "import numpy as np\n",
    "import matplotlib as plt\n",
    "import seaborn as sns\n",
    "from sklearn.metrics import classification_report\n",
    "from sklearn.metrics import confusion_matrix\n",
    "from sklearn.metrics import cohen_kappa_score\n",
    "from sklearn import metrics\n",
    "from sklearn import tree\n",
    "import pickle\n",
    "import warnings\n"
   ]
  },
  {
   "cell_type": "code",
   "execution_count": 2,
   "metadata": {},
   "outputs": [],
   "source": [
    "warnings.filterwarnings(\"ignore\")\n",
    "with open(\"model.pkl\",'rb') as f:\n",
    "    fm = pickle.load(f)\n",
    "data = [\n",
    "        [30, 48, 14, 33, 1, 4, 18,30],\n",
    "#         [30, 48, 14, 33, 1, 4, 18,30],\n",
    "#         [30, 48, 14, 33, 1, 4, 18,30],\n",
    "#         [30, 48, 14, 33, 1, 4, 18,30],\n",
    "#         [30, 48, 14, 33, 1, 4, 18,30],\n",
    "#         [30, 48, 14, 33, 1, 4, 18,30],\n",
    "#         [30, 48, 14, 33, 1, 4, 18,30],\n",
    "#         [30, 48, 14, 33, 1, 4, 18,30],\n",
    "#         [30, 48, 14, 33, 1, 4, 18,30],\n",
    "#         [30, 48, 14, 33, 1, 4, 18,30],\n",
    "       ]"
   ]
  },
  {
   "cell_type": "code",
   "execution_count": 3,
   "metadata": {
    "scrolled": true
   },
   "outputs": [
    {
     "name": "stdout",
     "output_type": "stream",
     "text": [
      "[13.40798315]\n"
     ]
    }
   ],
   "source": [
    "prediction = fm.predict(data)\n",
    "print(prediction)"
   ]
  },
  {
   "cell_type": "code",
   "execution_count": 4,
   "metadata": {},
   "outputs": [
    {
     "data": {
      "text/plain": [
       "numpy.ndarray"
      ]
     },
     "execution_count": 4,
     "metadata": {},
     "output_type": "execute_result"
    }
   ],
   "source": [
    "type(prediction)"
   ]
  },
  {
   "cell_type": "code",
   "execution_count": 5,
   "metadata": {},
   "outputs": [],
   "source": [
    "lis = prediction.tolist()"
   ]
  },
  {
   "cell_type": "code",
   "execution_count": 6,
   "metadata": {},
   "outputs": [
    {
     "data": {
      "text/plain": [
       "[13.407983146360172]"
      ]
     },
     "execution_count": 6,
     "metadata": {},
     "output_type": "execute_result"
    }
   ],
   "source": [
    "lis"
   ]
  },
  {
   "cell_type": "code",
   "execution_count": 7,
   "metadata": {},
   "outputs": [
    {
     "data": {
      "text/plain": [
       "list"
      ]
     },
     "execution_count": 7,
     "metadata": {},
     "output_type": "execute_result"
    }
   ],
   "source": [
    "type(lis)"
   ]
  },
  {
   "cell_type": "code",
   "execution_count": 8,
   "metadata": {},
   "outputs": [
    {
     "name": "stdout",
     "output_type": "stream",
     "text": [
      "   Prediction\n",
      "0   13.407983\n"
     ]
    }
   ],
   "source": [
    "df = pd.DataFrame({'Prediction':lis})\n",
    "print (df)"
   ]
  },
  {
   "cell_type": "code",
   "execution_count": 9,
   "metadata": {},
   "outputs": [],
   "source": [
    "df.to_csv('prediction.csv', index=False)"
   ]
  },
  {
   "cell_type": "code",
   "execution_count": 11,
   "metadata": {},
   "outputs": [
    {
     "name": "stdout",
     "output_type": "stream",
     "text": [
      "[\"14.8516\",\"14.8516\",\"14.8516\",\"14.8516\",\"14.8516\",\"14.8516\",\"14.8516\",\"14.8516\",\"14.8516\",\"14.8516\",\"14.8516\",\"14.8516\",\"14.8516\",\"14.8516\",\"14.8516\",\"14.8516\",\"14.8516\",\"14.8516\",\"14.8516\",\"14.8516\",\"14.8516\",\"14.8516\",\"14.8516\",\"14.8516\",\"14.8516\",\"14.8516\",\"14.8516\",\"14.8516\",\"14.8516\",\"14.8516\"]\n",
      "<class 'str'>\n"
     ]
    }
   ],
   "source": [
    "import urllib.parse\n",
    "encodedStr = '%5B%2214.8516%22%2C%2214.8516%22%2C%2214.8516%22%2C%2214.8516%22%2C%2214.8516%22%2C%2214.8516%22%2C%2214.8516%22%2C%2214.8516%22%2C%2214.8516%22%2C%2214.8516%22%2C%2214.8516%22%2C%2214.8516%22%2C%2214.8516%22%2C%2214.8516%22%2C%2214.8516%22%2C%2214.8516%22%2C%2214.8516%22%2C%2214.8516%22%2C%2214.8516%22%2C%2214.8516%22%2C%2214.8516%22%2C%2214.8516%22%2C%2214.8516%22%2C%2214.8516%22%2C%2214.8516%22%2C%2214.8516%22%2C%2214.8516%22%2C%2214.8516%22%2C%2214.8516%22%2C%2214.8516%22%5D'\n",
    "decodedstr = urllib.parse.unquote(encodedStr)\n",
    "print(decodedstr)\n",
    "print(type(decodedstr))"
   ]
  },
  {
   "cell_type": "code",
   "execution_count": 13,
   "metadata": {},
   "outputs": [
    {
     "name": "stdout",
     "output_type": "stream",
     "text": [
      "[14.8516, 14.8516, 14.8516, 14.8516, 14.8516, 14.8516, 14.8516, 14.8516, 14.8516, 14.8516, 14.8516, 14.8516, 14.8516, 14.8516, 14.8516, 14.8516, 14.8516, 14.8516, 14.8516, 14.8516, 14.8516, 14.8516, 14.8516, 14.8516, 14.8516, 14.8516, 14.8516, 14.8516, 14.8516, 14.8516]\n",
      "<class 'list'>\n"
     ]
    }
   ],
   "source": [
    "import ast\n",
    "x = decodedstr\n",
    "x = ast.literal_eval(x)\n",
    "x = [float(n.strip()) for n in x]\n",
    "print(x)\n",
    "print(type(x))"
   ]
  },
  {
   "cell_type": "code",
   "execution_count": null,
   "metadata": {},
   "outputs": [],
   "source": []
  }
 ],
 "metadata": {
  "kernelspec": {
   "display_name": "Python 3",
   "language": "python",
   "name": "python3"
  },
  "language_info": {
   "codemirror_mode": {
    "name": "ipython",
    "version": 3
   },
   "file_extension": ".py",
   "mimetype": "text/x-python",
   "name": "python",
   "nbconvert_exporter": "python",
   "pygments_lexer": "ipython3",
   "version": "3.9.6"
  }
 },
 "nbformat": 4,
 "nbformat_minor": 4
}
