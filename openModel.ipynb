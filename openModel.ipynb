{
 "cells": [
  {
   "cell_type": "code",
   "execution_count": 1,
   "metadata": {},
   "outputs": [],
   "source": [
    "from __future__ import print_function"
   ]
  },
  {
   "cell_type": "code",
   "execution_count": 2,
   "metadata": {
    "collapsed": true
   },
   "outputs": [
    {
     "name": "stdout",
     "output_type": "stream",
     "text": [
      "Requirement already satisfied: seaborn in c:\\users\\bilal zafar\\appdata\\local\\programs\\python\\python39\\lib\\site-packages (0.11.2)\n",
      "Requirement already satisfied: matplotlib>=2.2 in c:\\users\\bilal zafar\\appdata\\local\\programs\\python\\python39\\lib\\site-packages (from seaborn) (3.5.0)\n",
      "Requirement already satisfied: pandas>=0.23 in c:\\users\\bilal zafar\\appdata\\local\\programs\\python\\python39\\lib\\site-packages (from seaborn) (1.3.5)\n",
      "Requirement already satisfied: scipy>=1.0 in c:\\users\\bilal zafar\\appdata\\local\\programs\\python\\python39\\lib\\site-packages (from seaborn) (1.7.2)\n",
      "Requirement already satisfied: numpy>=1.15 in c:\\users\\bilal zafar\\appdata\\local\\programs\\python\\python39\\lib\\site-packages (from seaborn) (1.21.2)\n",
      "Requirement already satisfied: pyparsing>=2.2.1 in c:\\users\\bilal zafar\\appdata\\local\\programs\\python\\python39\\lib\\site-packages (from matplotlib>=2.2->seaborn) (2.4.7)\n",
      "Requirement already satisfied: setuptools-scm>=4 in c:\\users\\bilal zafar\\appdata\\local\\programs\\python\\python39\\lib\\site-packages (from matplotlib>=2.2->seaborn) (6.3.2)\n",
      "Requirement already satisfied: cycler>=0.10 in c:\\users\\bilal zafar\\appdata\\local\\programs\\python\\python39\\lib\\site-packages (from matplotlib>=2.2->seaborn) (0.10.0)\n",
      "Requirement already satisfied: pillow>=6.2.0 in c:\\users\\bilal zafar\\appdata\\local\\programs\\python\\python39\\lib\\site-packages (from matplotlib>=2.2->seaborn) (8.4.0)\n",
      "Requirement already satisfied: python-dateutil>=2.7 in c:\\users\\bilal zafar\\appdata\\local\\programs\\python\\python39\\lib\\site-packages (from matplotlib>=2.2->seaborn) (2.8.1)\n",
      "Requirement already satisfied: fonttools>=4.22.0 in c:\\users\\bilal zafar\\appdata\\local\\programs\\python\\python39\\lib\\site-packages (from matplotlib>=2.2->seaborn) (4.28.1)\n",
      "Requirement already satisfied: kiwisolver>=1.0.1 in c:\\users\\bilal zafar\\appdata\\local\\programs\\python\\python39\\lib\\site-packages (from matplotlib>=2.2->seaborn) (1.3.2)\n",
      "Requirement already satisfied: packaging>=20.0 in c:\\users\\bilal zafar\\appdata\\local\\programs\\python\\python39\\lib\\site-packages (from matplotlib>=2.2->seaborn) (20.4)\n",
      "Requirement already satisfied: six in c:\\users\\bilal zafar\\appdata\\local\\programs\\python\\python39\\lib\\site-packages (from cycler>=0.10->matplotlib>=2.2->seaborn) (1.15.0)\n",
      "Requirement already satisfied: pytz>=2017.3 in c:\\users\\bilal zafar\\appdata\\local\\programs\\python\\python39\\lib\\site-packages (from pandas>=0.23->seaborn) (2022.1)\n",
      "Requirement already satisfied: tomli>=1.0.0 in c:\\users\\bilal zafar\\appdata\\local\\programs\\python\\python39\\lib\\site-packages (from setuptools-scm>=4->matplotlib>=2.2->seaborn) (1.2.2)\n",
      "Requirement already satisfied: setuptools in c:\\users\\bilal zafar\\appdata\\local\\programs\\python\\python39\\lib\\site-packages (from setuptools-scm>=4->matplotlib>=2.2->seaborn) (56.0.0)\n"
     ]
    },
    {
     "name": "stderr",
     "output_type": "stream",
     "text": [
      "WARNING: Ignoring invalid distribution -illow (c:\\users\\bilal zafar\\appdata\\local\\programs\\python\\python39\\lib\\site-packages)\n",
      "WARNING: Ignoring invalid distribution -illow (c:\\users\\bilal zafar\\appdata\\local\\programs\\python\\python39\\lib\\site-packages)\n",
      "WARNING: Ignoring invalid distribution -illow (c:\\users\\bilal zafar\\appdata\\local\\programs\\python\\python39\\lib\\site-packages)\n",
      "WARNING: Ignoring invalid distribution -illow (c:\\users\\bilal zafar\\appdata\\local\\programs\\python\\python39\\lib\\site-packages)\n",
      "WARNING: Ignoring invalid distribution -illow (c:\\users\\bilal zafar\\appdata\\local\\programs\\python\\python39\\lib\\site-packages)\n",
      "WARNING: Ignoring invalid distribution -illow (c:\\users\\bilal zafar\\appdata\\local\\programs\\python\\python39\\lib\\site-packages)\n",
      "WARNING: You are using pip version 21.1.3; however, version 22.1.1 is available.\n",
      "You should consider upgrading via the 'C:\\Users\\Bilal Zafar\\AppData\\Local\\Programs\\Python\\Python39\\python.exe -m pip install --upgrade pip' command.\n"
     ]
    }
   ],
   "source": [
    "!python -m pip install seaborn"
   ]
  },
  {
   "cell_type": "code",
   "execution_count": 3,
   "metadata": {},
   "outputs": [],
   "source": [
    "import pandas as pd\n",
    "import numpy as np\n",
    "import matplotlib as plt\n",
    "import seaborn as sns\n",
    "from sklearn.metrics import classification_report\n",
    "from sklearn.metrics import confusion_matrix\n",
    "from sklearn.metrics import cohen_kappa_score\n",
    "from sklearn import metrics\n",
    "from sklearn import tree\n",
    "import pickle\n",
    "import warnings\n"
   ]
  },
  {
   "cell_type": "code",
   "execution_count": 2,
   "metadata": {},
   "outputs": [],
   "source": [
    "# warnings.filterwarnings(\"ignore\")\n",
    "# with open(\"model.pkl\",'rb') as f:\n",
    "#     fm = pickle.load(f)\n",
    "# data = [\n",
    "#         [30, 48, 14, 33, 1, 4, 18,30],\n",
    "# #         [30, 48, 14, 33, 1, 4, 18,30],\n",
    "# #         [30, 48, 14, 33, 1, 4, 18,30],\n",
    "# #         [30, 48, 14, 33, 1, 4, 18,30],\n",
    "# #         [30, 48, 14, 33, 1, 4, 18,30],\n",
    "# #         [30, 48, 14, 33, 1, 4, 18,30],\n",
    "# #         [30, 48, 14, 33, 1, 4, 18,30],\n",
    "# #         [30, 48, 14, 33, 1, 4, 18,30],\n",
    "# #         [30, 48, 14, 33, 1, 4, 18,30],\n",
    "# #         [30, 48, 14, 33, 1, 4, 18,30],\n",
    "#        ]"
   ]
  },
  {
   "cell_type": "code",
   "execution_count": 4,
   "metadata": {},
   "outputs": [],
   "source": [
    "df = pd.read_csv(\"info.csv\")"
   ]
  },
  {
   "cell_type": "code",
   "execution_count": 5,
   "metadata": {
    "collapsed": true
   },
   "outputs": [
    {
     "data": {
      "text/html": [
       "<div>\n",
       "<style scoped>\n",
       "    .dataframe tbody tr th:only-of-type {\n",
       "        vertical-align: middle;\n",
       "    }\n",
       "\n",
       "    .dataframe tbody tr th {\n",
       "        vertical-align: top;\n",
       "    }\n",
       "\n",
       "    .dataframe thead th {\n",
       "        text-align: right;\n",
       "    }\n",
       "</style>\n",
       "<table border=\"1\" class=\"dataframe\">\n",
       "  <thead>\n",
       "    <tr style=\"text-align: right;\">\n",
       "      <th></th>\n",
       "      <th>lon_data</th>\n",
       "      <th>lat_data</th>\n",
       "      <th>temp_data</th>\n",
       "      <th>pressure_data</th>\n",
       "      <th>humidity_data</th>\n",
       "      <th>cloud_data</th>\n",
       "      <th>visibility_data</th>\n",
       "      <th>wind_speed_data</th>\n",
       "    </tr>\n",
       "  </thead>\n",
       "  <tbody>\n",
       "    <tr>\n",
       "      <th>0</th>\n",
       "      <td>50.0245</td>\n",
       "      <td>26.5208</td>\n",
       "      <td>307.26</td>\n",
       "      <td>1003</td>\n",
       "      <td>14</td>\n",
       "      <td>0</td>\n",
       "      <td>10000</td>\n",
       "      <td>4.54</td>\n",
       "    </tr>\n",
       "    <tr>\n",
       "      <th>1</th>\n",
       "      <td>50.0245</td>\n",
       "      <td>26.5208</td>\n",
       "      <td>304.26</td>\n",
       "      <td>1006</td>\n",
       "      <td>16</td>\n",
       "      <td>0</td>\n",
       "      <td>10000</td>\n",
       "      <td>3.07</td>\n",
       "    </tr>\n",
       "    <tr>\n",
       "      <th>2</th>\n",
       "      <td>50.0245</td>\n",
       "      <td>26.5208</td>\n",
       "      <td>300.26</td>\n",
       "      <td>1006</td>\n",
       "      <td>28</td>\n",
       "      <td>0</td>\n",
       "      <td>10000</td>\n",
       "      <td>4.51</td>\n",
       "    </tr>\n",
       "    <tr>\n",
       "      <th>3</th>\n",
       "      <td>50.0245</td>\n",
       "      <td>26.5208</td>\n",
       "      <td>303.26</td>\n",
       "      <td>1006</td>\n",
       "      <td>22</td>\n",
       "      <td>0</td>\n",
       "      <td>10000</td>\n",
       "      <td>3.91</td>\n",
       "    </tr>\n",
       "    <tr>\n",
       "      <th>4</th>\n",
       "      <td>50.0245</td>\n",
       "      <td>26.5208</td>\n",
       "      <td>302.26</td>\n",
       "      <td>1008</td>\n",
       "      <td>29</td>\n",
       "      <td>0</td>\n",
       "      <td>10000</td>\n",
       "      <td>4.56</td>\n",
       "    </tr>\n",
       "    <tr>\n",
       "      <th>5</th>\n",
       "      <td>50.0245</td>\n",
       "      <td>26.5208</td>\n",
       "      <td>302.62</td>\n",
       "      <td>1009</td>\n",
       "      <td>30</td>\n",
       "      <td>0</td>\n",
       "      <td>0</td>\n",
       "      <td>4.73</td>\n",
       "    </tr>\n",
       "    <tr>\n",
       "      <th>6</th>\n",
       "      <td>50.0245</td>\n",
       "      <td>26.5208</td>\n",
       "      <td>301.87</td>\n",
       "      <td>1007</td>\n",
       "      <td>33</td>\n",
       "      <td>0</td>\n",
       "      <td>0</td>\n",
       "      <td>5.00</td>\n",
       "    </tr>\n",
       "    <tr>\n",
       "      <th>7</th>\n",
       "      <td>50.0245</td>\n",
       "      <td>26.5208</td>\n",
       "      <td>302.60</td>\n",
       "      <td>1000</td>\n",
       "      <td>52</td>\n",
       "      <td>0</td>\n",
       "      <td>0</td>\n",
       "      <td>1.45</td>\n",
       "    </tr>\n",
       "    <tr>\n",
       "      <th>8</th>\n",
       "      <td>50.0245</td>\n",
       "      <td>26.5208</td>\n",
       "      <td>304.45</td>\n",
       "      <td>1002</td>\n",
       "      <td>23</td>\n",
       "      <td>0</td>\n",
       "      <td>0</td>\n",
       "      <td>5.61</td>\n",
       "    </tr>\n",
       "    <tr>\n",
       "      <th>9</th>\n",
       "      <td>50.0245</td>\n",
       "      <td>26.5208</td>\n",
       "      <td>304.51</td>\n",
       "      <td>1006</td>\n",
       "      <td>32</td>\n",
       "      <td>0</td>\n",
       "      <td>0</td>\n",
       "      <td>6.33</td>\n",
       "    </tr>\n",
       "    <tr>\n",
       "      <th>10</th>\n",
       "      <td>50.0245</td>\n",
       "      <td>26.5208</td>\n",
       "      <td>305.27</td>\n",
       "      <td>1005</td>\n",
       "      <td>36</td>\n",
       "      <td>0</td>\n",
       "      <td>0</td>\n",
       "      <td>5.38</td>\n",
       "    </tr>\n",
       "    <tr>\n",
       "      <th>11</th>\n",
       "      <td>50.0245</td>\n",
       "      <td>26.5208</td>\n",
       "      <td>303.65</td>\n",
       "      <td>1007</td>\n",
       "      <td>45</td>\n",
       "      <td>0</td>\n",
       "      <td>0</td>\n",
       "      <td>4.94</td>\n",
       "    </tr>\n",
       "    <tr>\n",
       "      <th>12</th>\n",
       "      <td>50.0245</td>\n",
       "      <td>26.5208</td>\n",
       "      <td>302.27</td>\n",
       "      <td>1007</td>\n",
       "      <td>49</td>\n",
       "      <td>0</td>\n",
       "      <td>0</td>\n",
       "      <td>5.24</td>\n",
       "    </tr>\n",
       "    <tr>\n",
       "      <th>13</th>\n",
       "      <td>50.0245</td>\n",
       "      <td>26.5208</td>\n",
       "      <td>303.30</td>\n",
       "      <td>1006</td>\n",
       "      <td>41</td>\n",
       "      <td>0</td>\n",
       "      <td>0</td>\n",
       "      <td>6.54</td>\n",
       "    </tr>\n",
       "    <tr>\n",
       "      <th>14</th>\n",
       "      <td>50.0245</td>\n",
       "      <td>26.5208</td>\n",
       "      <td>303.17</td>\n",
       "      <td>1006</td>\n",
       "      <td>47</td>\n",
       "      <td>0</td>\n",
       "      <td>0</td>\n",
       "      <td>1.26</td>\n",
       "    </tr>\n",
       "    <tr>\n",
       "      <th>15</th>\n",
       "      <td>50.0245</td>\n",
       "      <td>26.5208</td>\n",
       "      <td>299.67</td>\n",
       "      <td>1009</td>\n",
       "      <td>64</td>\n",
       "      <td>0</td>\n",
       "      <td>0</td>\n",
       "      <td>1.15</td>\n",
       "    </tr>\n",
       "    <tr>\n",
       "      <th>16</th>\n",
       "      <td>50.0245</td>\n",
       "      <td>26.5208</td>\n",
       "      <td>303.30</td>\n",
       "      <td>1005</td>\n",
       "      <td>30</td>\n",
       "      <td>0</td>\n",
       "      <td>0</td>\n",
       "      <td>9.03</td>\n",
       "    </tr>\n",
       "    <tr>\n",
       "      <th>17</th>\n",
       "      <td>50.0245</td>\n",
       "      <td>26.5208</td>\n",
       "      <td>302.89</td>\n",
       "      <td>1008</td>\n",
       "      <td>36</td>\n",
       "      <td>0</td>\n",
       "      <td>0</td>\n",
       "      <td>9.48</td>\n",
       "    </tr>\n",
       "    <tr>\n",
       "      <th>18</th>\n",
       "      <td>50.0245</td>\n",
       "      <td>26.5208</td>\n",
       "      <td>301.56</td>\n",
       "      <td>1009</td>\n",
       "      <td>44</td>\n",
       "      <td>0</td>\n",
       "      <td>0</td>\n",
       "      <td>3.57</td>\n",
       "    </tr>\n",
       "    <tr>\n",
       "      <th>19</th>\n",
       "      <td>50.0245</td>\n",
       "      <td>26.5208</td>\n",
       "      <td>301.04</td>\n",
       "      <td>1009</td>\n",
       "      <td>55</td>\n",
       "      <td>0</td>\n",
       "      <td>0</td>\n",
       "      <td>5.03</td>\n",
       "    </tr>\n",
       "    <tr>\n",
       "      <th>20</th>\n",
       "      <td>50.0245</td>\n",
       "      <td>26.5208</td>\n",
       "      <td>300.46</td>\n",
       "      <td>1009</td>\n",
       "      <td>46</td>\n",
       "      <td>0</td>\n",
       "      <td>0</td>\n",
       "      <td>3.14</td>\n",
       "    </tr>\n",
       "    <tr>\n",
       "      <th>21</th>\n",
       "      <td>50.0245</td>\n",
       "      <td>26.5208</td>\n",
       "      <td>300.05</td>\n",
       "      <td>1010</td>\n",
       "      <td>46</td>\n",
       "      <td>0</td>\n",
       "      <td>0</td>\n",
       "      <td>4.16</td>\n",
       "    </tr>\n",
       "    <tr>\n",
       "      <th>22</th>\n",
       "      <td>50.0245</td>\n",
       "      <td>26.5208</td>\n",
       "      <td>299.41</td>\n",
       "      <td>1011</td>\n",
       "      <td>54</td>\n",
       "      <td>0</td>\n",
       "      <td>0</td>\n",
       "      <td>6.38</td>\n",
       "    </tr>\n",
       "    <tr>\n",
       "      <th>23</th>\n",
       "      <td>50.0245</td>\n",
       "      <td>26.5208</td>\n",
       "      <td>299.82</td>\n",
       "      <td>1007</td>\n",
       "      <td>76</td>\n",
       "      <td>65</td>\n",
       "      <td>0</td>\n",
       "      <td>5.83</td>\n",
       "    </tr>\n",
       "    <tr>\n",
       "      <th>24</th>\n",
       "      <td>50.0245</td>\n",
       "      <td>26.5208</td>\n",
       "      <td>304.22</td>\n",
       "      <td>1004</td>\n",
       "      <td>48</td>\n",
       "      <td>60</td>\n",
       "      <td>0</td>\n",
       "      <td>4.95</td>\n",
       "    </tr>\n",
       "    <tr>\n",
       "      <th>25</th>\n",
       "      <td>50.0245</td>\n",
       "      <td>26.5208</td>\n",
       "      <td>304.79</td>\n",
       "      <td>1003</td>\n",
       "      <td>51</td>\n",
       "      <td>42</td>\n",
       "      <td>0</td>\n",
       "      <td>6.68</td>\n",
       "    </tr>\n",
       "    <tr>\n",
       "      <th>26</th>\n",
       "      <td>50.0245</td>\n",
       "      <td>26.5208</td>\n",
       "      <td>302.94</td>\n",
       "      <td>1007</td>\n",
       "      <td>53</td>\n",
       "      <td>0</td>\n",
       "      <td>0</td>\n",
       "      <td>4.19</td>\n",
       "    </tr>\n",
       "    <tr>\n",
       "      <th>27</th>\n",
       "      <td>50.0245</td>\n",
       "      <td>26.5208</td>\n",
       "      <td>301.08</td>\n",
       "      <td>1009</td>\n",
       "      <td>49</td>\n",
       "      <td>0</td>\n",
       "      <td>0</td>\n",
       "      <td>3.96</td>\n",
       "    </tr>\n",
       "    <tr>\n",
       "      <th>28</th>\n",
       "      <td>50.0245</td>\n",
       "      <td>26.5208</td>\n",
       "      <td>300.28</td>\n",
       "      <td>1008</td>\n",
       "      <td>56</td>\n",
       "      <td>0</td>\n",
       "      <td>0</td>\n",
       "      <td>2.48</td>\n",
       "    </tr>\n",
       "    <tr>\n",
       "      <th>29</th>\n",
       "      <td>50.0245</td>\n",
       "      <td>26.5208</td>\n",
       "      <td>300.15</td>\n",
       "      <td>1005</td>\n",
       "      <td>72</td>\n",
       "      <td>0</td>\n",
       "      <td>0</td>\n",
       "      <td>1.73</td>\n",
       "    </tr>\n",
       "  </tbody>\n",
       "</table>\n",
       "</div>"
      ],
      "text/plain": [
       "    lon_data  lat_data  temp_data  pressure_data  humidity_data  cloud_data  \\\n",
       "0    50.0245   26.5208     307.26           1003             14           0   \n",
       "1    50.0245   26.5208     304.26           1006             16           0   \n",
       "2    50.0245   26.5208     300.26           1006             28           0   \n",
       "3    50.0245   26.5208     303.26           1006             22           0   \n",
       "4    50.0245   26.5208     302.26           1008             29           0   \n",
       "5    50.0245   26.5208     302.62           1009             30           0   \n",
       "6    50.0245   26.5208     301.87           1007             33           0   \n",
       "7    50.0245   26.5208     302.60           1000             52           0   \n",
       "8    50.0245   26.5208     304.45           1002             23           0   \n",
       "9    50.0245   26.5208     304.51           1006             32           0   \n",
       "10   50.0245   26.5208     305.27           1005             36           0   \n",
       "11   50.0245   26.5208     303.65           1007             45           0   \n",
       "12   50.0245   26.5208     302.27           1007             49           0   \n",
       "13   50.0245   26.5208     303.30           1006             41           0   \n",
       "14   50.0245   26.5208     303.17           1006             47           0   \n",
       "15   50.0245   26.5208     299.67           1009             64           0   \n",
       "16   50.0245   26.5208     303.30           1005             30           0   \n",
       "17   50.0245   26.5208     302.89           1008             36           0   \n",
       "18   50.0245   26.5208     301.56           1009             44           0   \n",
       "19   50.0245   26.5208     301.04           1009             55           0   \n",
       "20   50.0245   26.5208     300.46           1009             46           0   \n",
       "21   50.0245   26.5208     300.05           1010             46           0   \n",
       "22   50.0245   26.5208     299.41           1011             54           0   \n",
       "23   50.0245   26.5208     299.82           1007             76          65   \n",
       "24   50.0245   26.5208     304.22           1004             48          60   \n",
       "25   50.0245   26.5208     304.79           1003             51          42   \n",
       "26   50.0245   26.5208     302.94           1007             53           0   \n",
       "27   50.0245   26.5208     301.08           1009             49           0   \n",
       "28   50.0245   26.5208     300.28           1008             56           0   \n",
       "29   50.0245   26.5208     300.15           1005             72           0   \n",
       "\n",
       "    visibility_data  wind_speed_data  \n",
       "0             10000             4.54  \n",
       "1             10000             3.07  \n",
       "2             10000             4.51  \n",
       "3             10000             3.91  \n",
       "4             10000             4.56  \n",
       "5                 0             4.73  \n",
       "6                 0             5.00  \n",
       "7                 0             1.45  \n",
       "8                 0             5.61  \n",
       "9                 0             6.33  \n",
       "10                0             5.38  \n",
       "11                0             4.94  \n",
       "12                0             5.24  \n",
       "13                0             6.54  \n",
       "14                0             1.26  \n",
       "15                0             1.15  \n",
       "16                0             9.03  \n",
       "17                0             9.48  \n",
       "18                0             3.57  \n",
       "19                0             5.03  \n",
       "20                0             3.14  \n",
       "21                0             4.16  \n",
       "22                0             6.38  \n",
       "23                0             5.83  \n",
       "24                0             4.95  \n",
       "25                0             6.68  \n",
       "26                0             4.19  \n",
       "27                0             3.96  \n",
       "28                0             2.48  \n",
       "29                0             1.73  "
      ]
     },
     "execution_count": 5,
     "metadata": {},
     "output_type": "execute_result"
    }
   ],
   "source": [
    "# df[['lon_data','lat_data','temp_data','pressure_data','humidity_data','cloud_data','visibility_data','wind_speed_data']][:31]"
   ]
  },
  {
   "cell_type": "code",
   "execution_count": 8,
   "metadata": {},
   "outputs": [],
   "source": [
    "convertedArr = df[['lon_data','lat_data','temp_data','pressure_data','humidity_data','cloud_data','visibility_data','wind_speed_data']][:31].values.tolist()"
   ]
  },
  {
   "cell_type": "code",
   "execution_count": 9,
   "metadata": {
    "collapsed": true
   },
   "outputs": [
    {
     "data": {
      "text/plain": [
       "[[50.0245, 26.5208, 307.26, 1003.0, 14.0, 0.0, 10000.0, 4.54],\n",
       " [50.0245, 26.5208, 304.26, 1006.0, 16.0, 0.0, 10000.0, 3.07],\n",
       " [50.0245, 26.5208, 300.26, 1006.0, 28.0, 0.0, 10000.0, 4.51],\n",
       " [50.0245, 26.5208, 303.26, 1006.0, 22.0, 0.0, 10000.0, 3.91],\n",
       " [50.0245, 26.5208, 302.26, 1008.0, 29.0, 0.0, 10000.0, 4.56],\n",
       " [50.0245, 26.5208, 302.62, 1009.0, 30.0, 0.0, 0.0, 4.73],\n",
       " [50.0245, 26.5208, 301.87, 1007.0, 33.0, 0.0, 0.0, 5.0],\n",
       " [50.0245, 26.5208, 302.6, 1000.0, 52.0, 0.0, 0.0, 1.45],\n",
       " [50.0245, 26.5208, 304.45, 1002.0, 23.0, 0.0, 0.0, 5.61],\n",
       " [50.0245, 26.5208, 304.51, 1006.0, 32.0, 0.0, 0.0, 6.33],\n",
       " [50.0245, 26.5208, 305.27, 1005.0, 36.0, 0.0, 0.0, 5.38],\n",
       " [50.0245, 26.5208, 303.65, 1007.0, 45.0, 0.0, 0.0, 4.94],\n",
       " [50.0245, 26.5208, 302.27, 1007.0, 49.0, 0.0, 0.0, 5.24],\n",
       " [50.0245, 26.5208, 303.3, 1006.0, 41.0, 0.0, 0.0, 6.54],\n",
       " [50.0245, 26.5208, 303.17, 1006.0, 47.0, 0.0, 0.0, 1.26],\n",
       " [50.0245, 26.5208, 299.67, 1009.0, 64.0, 0.0, 0.0, 1.15],\n",
       " [50.0245, 26.5208, 303.3, 1005.0, 30.0, 0.0, 0.0, 9.03],\n",
       " [50.0245, 26.5208, 302.89, 1008.0, 36.0, 0.0, 0.0, 9.48],\n",
       " [50.0245, 26.5208, 301.56, 1009.0, 44.0, 0.0, 0.0, 3.57],\n",
       " [50.0245, 26.5208, 301.04, 1009.0, 55.0, 0.0, 0.0, 5.03],\n",
       " [50.0245, 26.5208, 300.46, 1009.0, 46.0, 0.0, 0.0, 3.14],\n",
       " [50.0245, 26.5208, 300.05, 1010.0, 46.0, 0.0, 0.0, 4.16],\n",
       " [50.0245, 26.5208, 299.41, 1011.0, 54.0, 0.0, 0.0, 6.38],\n",
       " [50.0245, 26.5208, 299.82, 1007.0, 76.0, 65.0, 0.0, 5.83],\n",
       " [50.0245, 26.5208, 304.22, 1004.0, 48.0, 60.0, 0.0, 4.95],\n",
       " [50.0245, 26.5208, 304.79, 1003.0, 51.0, 42.0, 0.0, 6.68],\n",
       " [50.0245, 26.5208, 302.94, 1007.0, 53.0, 0.0, 0.0, 4.19],\n",
       " [50.0245, 26.5208, 301.08, 1009.0, 49.0, 0.0, 0.0, 3.96],\n",
       " [50.0245, 26.5208, 300.28, 1008.0, 56.0, 0.0, 0.0, 2.48],\n",
       " [50.0245, 26.5208, 300.15, 1005.0, 72.0, 0.0, 0.0, 1.73]]"
      ]
     },
     "execution_count": 9,
     "metadata": {},
     "output_type": "execute_result"
    }
   ],
   "source": [
    "convertedArr"
   ]
  },
  {
   "cell_type": "code",
   "execution_count": 3,
   "metadata": {
    "scrolled": false
   },
   "outputs": [
    {
     "name": "stdout",
     "output_type": "stream",
     "text": [
      "[13.40798315]\n"
     ]
    }
   ],
   "source": [
    "# prediction = fm.predict(data)\n",
    "# print(prediction)"
   ]
  },
  {
   "cell_type": "code",
   "execution_count": 4,
   "metadata": {},
   "outputs": [
    {
     "data": {
      "text/plain": [
       "numpy.ndarray"
      ]
     },
     "execution_count": 4,
     "metadata": {},
     "output_type": "execute_result"
    }
   ],
   "source": [
    "# type(prediction)"
   ]
  },
  {
   "cell_type": "code",
   "execution_count": 5,
   "metadata": {},
   "outputs": [],
   "source": [
    "# lis = prediction.tolist()"
   ]
  },
  {
   "cell_type": "code",
   "execution_count": 6,
   "metadata": {},
   "outputs": [
    {
     "data": {
      "text/plain": [
       "[13.407983146360172]"
      ]
     },
     "execution_count": 6,
     "metadata": {},
     "output_type": "execute_result"
    }
   ],
   "source": [
    "# lis"
   ]
  },
  {
   "cell_type": "code",
   "execution_count": 7,
   "metadata": {},
   "outputs": [
    {
     "data": {
      "text/plain": [
       "list"
      ]
     },
     "execution_count": 7,
     "metadata": {},
     "output_type": "execute_result"
    }
   ],
   "source": [
    "# type(lis)"
   ]
  },
  {
   "cell_type": "code",
   "execution_count": 8,
   "metadata": {},
   "outputs": [
    {
     "name": "stdout",
     "output_type": "stream",
     "text": [
      "   Prediction\n",
      "0   13.407983\n"
     ]
    }
   ],
   "source": [
    "# df = pd.DataFrame({'Prediction':lis})\n",
    "# print (df)"
   ]
  },
  {
   "cell_type": "code",
   "execution_count": 9,
   "metadata": {},
   "outputs": [],
   "source": [
    "df.to_csv('prediction.csv', index=False)"
   ]
  },
  {
   "cell_type": "code",
   "execution_count": 11,
   "metadata": {},
   "outputs": [
    {
     "name": "stdout",
     "output_type": "stream",
     "text": [
      "[\"14.8516\",\"14.8516\",\"14.8516\",\"14.8516\",\"14.8516\",\"14.8516\",\"14.8516\",\"14.8516\",\"14.8516\",\"14.8516\",\"14.8516\",\"14.8516\",\"14.8516\",\"14.8516\",\"14.8516\",\"14.8516\",\"14.8516\",\"14.8516\",\"14.8516\",\"14.8516\",\"14.8516\",\"14.8516\",\"14.8516\",\"14.8516\",\"14.8516\",\"14.8516\",\"14.8516\",\"14.8516\",\"14.8516\",\"14.8516\"]\n",
      "<class 'str'>\n"
     ]
    }
   ],
   "source": [
    "import urllib.parse\n",
    "encodedStr = '%5B%2214.8516%22%2C%2214.8516%22%2C%2214.8516%22%2C%2214.8516%22%2C%2214.8516%22%2C%2214.8516%22%2C%2214.8516%22%2C%2214.8516%22%2C%2214.8516%22%2C%2214.8516%22%2C%2214.8516%22%2C%2214.8516%22%2C%2214.8516%22%2C%2214.8516%22%2C%2214.8516%22%2C%2214.8516%22%2C%2214.8516%22%2C%2214.8516%22%2C%2214.8516%22%2C%2214.8516%22%2C%2214.8516%22%2C%2214.8516%22%2C%2214.8516%22%2C%2214.8516%22%2C%2214.8516%22%2C%2214.8516%22%2C%2214.8516%22%2C%2214.8516%22%2C%2214.8516%22%2C%2214.8516%22%5D'\n",
    "decodedstr = urllib.parse.unquote(encodedStr)\n",
    "print(decodedstr)\n",
    "print(type(decodedstr))"
   ]
  },
  {
   "cell_type": "code",
   "execution_count": 13,
   "metadata": {},
   "outputs": [
    {
     "name": "stdout",
     "output_type": "stream",
     "text": [
      "[14.8516, 14.8516, 14.8516, 14.8516, 14.8516, 14.8516, 14.8516, 14.8516, 14.8516, 14.8516, 14.8516, 14.8516, 14.8516, 14.8516, 14.8516, 14.8516, 14.8516, 14.8516, 14.8516, 14.8516, 14.8516, 14.8516, 14.8516, 14.8516, 14.8516, 14.8516, 14.8516, 14.8516, 14.8516, 14.8516]\n",
      "<class 'list'>\n"
     ]
    }
   ],
   "source": [
    "import ast\n",
    "x = decodedstr\n",
    "x = ast.literal_eval(x)\n",
    "x = [float(n.strip()) for n in x]\n",
    "print(x)\n",
    "print(type(x))"
   ]
  },
  {
   "cell_type": "code",
   "execution_count": 10,
   "metadata": {},
   "outputs": [],
   "source": [
    "warnings.filterwarnings(\"ignore\")\n",
    "with open(\"model.pkl\",'rb') as f:\n",
    "    fm = pickle.load(f)\n",
    "    convertedArr"
   ]
  },
  {
   "cell_type": "code",
   "execution_count": 11,
   "metadata": {},
   "outputs": [
    {
     "name": "stdout",
     "output_type": "stream",
     "text": [
      "[-958.72294149 -959.56029385 -958.34256012 -958.75008701 -957.89087827\n",
      "   61.22602177   61.49725071   61.85060764   61.07293596   62.35140257\n",
      "   62.43635127   62.93068015   63.2518218    63.15626302   61.45151971\n",
      "   62.61881938   63.12272448   63.90008457   61.95840982   63.60552747\n",
      "   61.80702545   62.20241074   63.87757022   79.14208611   75.56324604\n",
      "   72.99094877   63.29593709   62.55241898   62.47344579   63.67341174]\n"
     ]
    }
   ],
   "source": [
    "prediction = fm.predict(convertedArr)\n",
    "print(prediction)"
   ]
  },
  {
   "cell_type": "code",
   "execution_count": null,
   "metadata": {},
   "outputs": [],
   "source": []
  }
 ],
 "metadata": {
  "kernelspec": {
   "display_name": "Python 3",
   "language": "python",
   "name": "python3"
  },
  "language_info": {
   "codemirror_mode": {
    "name": "ipython",
    "version": 3
   },
   "file_extension": ".py",
   "mimetype": "text/x-python",
   "name": "python",
   "nbconvert_exporter": "python",
   "pygments_lexer": "ipython3",
   "version": "3.9.6"
  }
 },
 "nbformat": 4,
 "nbformat_minor": 4
}
